{
 "cells": [
  {
   "cell_type": "code",
   "execution_count": 36,
   "id": "02967ff5-ba27-4d85-9808-580ae0370a7b",
   "metadata": {},
   "outputs": [
    {
     "name": "stdout",
     "output_type": "stream",
     "text": [
      "(1797, 64)\n"
     ]
    }
   ],
   "source": [
    "from sklearn.datasets import load_digits\n",
    "import pandas as pd\n",
    "import numpy as np\n",
    "from matplotlib import pyplot as plt\n",
    "%matplotlib inline\n",
    "\n",
    "digits = load_digits()\n",
    "print(digits.data.shape)"
   ]
  },
  {
   "cell_type": "code",
   "execution_count": 37,
   "id": "e4a6c45d-e328-41a7-a024-b206515f965f",
   "metadata": {},
   "outputs": [
    {
     "data": {
      "image/png": "[encoded data removed]",
      "text/plain": [
       "<Figure size 432x288 with 4 Axes>"
      ]
     },
     "metadata": {
      "needs_background": "light"
     },
     "output_type": "display_data"
    }
   ],
   "source": [
    "images_labels = list(zip(digits.images,digits.target))\n",
    "for index,(image,label) in enumerate(images_labels[:4]):\n",
    "    plt.subplot(2,4,index+1)\n",
    "    plt.imshow(image, cmap=plt.cm.gray_r, interpolation='nearest')\n",
    "    plt.title('Training: %i' % label)"
   ]
  },
  {
   "cell_type": "code",
   "execution_count": 38,
   "id": "6e37a1f5-dfd8-4713-9d63-fdd03f75bf9f",
   "metadata": {},
   "outputs": [],
   "source": [
    "X = digits.data\n",
    "y = digits.target"
   ]
  },
  {
   "cell_type": "code",
   "execution_count": 39,
   "id": "54c09fb0-78af-4dc2-b3a8-f5f57aeb8500",
   "metadata": {},
   "outputs": [],
   "source": [
    "import sklearn\n",
    "from sklearn.tree import DecisionTreeClassifier\n",
    "\n",
    "clf= DecisionTreeClassifier(random_state=0)\n",
    "scores= sklearn.model_selection.cross_val_score(clf, X, y, cv = 10)"
   ]
  },
  {
   "cell_type": "code",
   "execution_count": 40,
   "id": "cf5f3d97-d343-46ea-ab17-2cf5d78873a0",
   "metadata": {},
   "outputs": [
    {
     "name": "stdout",
     "output_type": "stream",
     "text": [
      "0.8241247672253259\n"
     ]
    }
   ],
   "source": [
    "mean = scores.mean()\n",
    "print(mean)"
   ]
  },
  {
   "cell_type": "code",
   "execution_count": 41,
   "id": "7888d6c5-ac8b-4bc9-a7de-9ba0e1f91fb7",
   "metadata": {},
   "outputs": [],
   "source": [
    "with open(\"w1.txt\",\"w\") as file:\n",
    "    file.write(str(mean))"
   ]
  },
  {
   "cell_type": "code",
   "execution_count": 42,
   "id": "553f9cde-4e75-4d96-970a-b96052f129b5",
   "metadata": {},
   "outputs": [
    {
     "name": "stdout",
     "output_type": "stream",
     "text": [
      "0.927048417132216\n"
     ]
    }
   ],
   "source": [
    "from sklearn.ensemble import BaggingClassifier\n",
    "bg = BaggingClassifier(base_estimator = clf, n_estimators = 100, random_state = 0)\n",
    "scores= sklearn.model_selection.cross_val_score(bg, X, y, cv = 10)\n",
    "mean = scores.mean()\n",
    "print(mean)"
   ]
  },
  {
   "cell_type": "code",
   "execution_count": 43,
   "id": "f84b6f3f-21bc-4349-a3dc-dfac82d8f1f6",
   "metadata": {},
   "outputs": [],
   "source": [
    "with open(\"w2.txt\",\"w\") as file:\n",
    "    file.write(str(mean))"
   ]
  },
  {
   "cell_type": "code",
   "execution_count": 44,
   "id": "d9f66d76-aef9-4fc8-a8e7-04bcfadc626b",
   "metadata": {},
   "outputs": [
    {
     "name": "stdout",
     "output_type": "stream",
     "text": [
      "0.9293389199255122\n"
     ]
    }
   ],
   "source": [
    "from sklearn.ensemble import BaggingClassifier\n",
    "bg = BaggingClassifier(base_estimator = clf, n_estimators = 100, random_state = 0, max_features = 0.125)\n",
    "scores = sklearn.model_selection.cross_val_score(bg,X, y, cv = 10)\n",
    "mean = scores.mean()\n",
    "print(mean)"
   ]
  },
  {
   "cell_type": "code",
   "execution_count": 45,
   "id": "b4fc4f47-0ad2-4913-a519-66e848e06075",
   "metadata": {},
   "outputs": [],
   "source": [
    "with open(\"w3.txt\",\"w\") as file:\n",
    "    file.write(str(mean))"
   ]
  },
  {
   "cell_type": "code",
   "execution_count": 46,
   "id": "73c29687-02d7-490a-b3be-f6371c0cd165",
   "metadata": {},
   "outputs": [
    {
     "name": "stdout",
     "output_type": "stream",
     "text": [
      "0.9571539416511483\n"
     ]
    }
   ],
   "source": [
    "clf = DecisionTreeClassifier(random_state=0, splitter = 'random', max_features = 0.125)\n",
    "from sklearn.ensemble import BaggingClassifier\n",
    "bg = BaggingClassifier (base_estimator = clf, n_estimators=100, random_state = 0)                       \n",
    "scores = sklearn.model_selection.cross_val_score(bg, X, y, cv=10)\n",
    "mean = scores.mean()\n",
    "print(mean)"
   ]
  },
  {
   "cell_type": "code",
   "execution_count": 47,
   "id": "5a0de5ab-7d4c-4eed-b8db-6ff52abe0bc6",
   "metadata": {},
   "outputs": [],
   "source": [
    "with open(\"w4.txt\",\"w\") as file:\n",
    "    file.write(str(mean))"
   ]
  },
  {
   "cell_type": "code",
   "execution_count": 48,
   "id": "b767df1e-25aa-441c-8e22-52b54fe34f4f",
   "metadata": {},
   "outputs": [
    {
     "name": "stdout",
     "output_type": "stream",
     "text": [
      "[0.9571539416511483, 0.9571539416511483, 0.9571539416511483, 0.9571539416511483]\n"
     ]
    }
   ],
   "source": [
    "Scores = []\n",
    "for i in range(5, 25, 5):\n",
    "    bg = BaggingClassifier (base_estimator = clf, n_estimators=100, random_state = 0)                       \n",
    "    scores = sklearn.model_selection.cross_val_score(bg, X, y, cv=10)\n",
    "    Scores.append(scores.mean())\n",
    "print(Scores)"
   ]
  },
  {
   "cell_type": "code",
   "execution_count": 49,
   "id": "04886eaf-7ddf-42cf-bb9a-840c1921e416",
   "metadata": {},
   "outputs": [],
   "source": [
    "with open(\"w5.txt\",\"w\") as file:\n",
    "    file.write(\" \".join([str(num) for num in Scores]))"
   ]
  },
  {
   "cell_type": "code",
   "execution_count": 50,
   "id": "7e3950b9-ad60-4079-97cd-baea1f3aa4b4",
   "metadata": {},
   "outputs": [
    {
     "data": {
      "image/png": "[encoded data removed]",
      "text/plain": [
       "<Figure size 432x288 with 1 Axes>"
      ]
     },
     "metadata": {
      "needs_background": "light"
     },
     "output_type": "display_data"
    }
   ],
   "source": [
    "plt.plot(range(5,25,5),Scores)\n",
    "plt.show()"
   ]
  }
 ],
 "metadata": {
  "kernelspec": {
   "display_name": "Python 3",
   "language": "python",
   "name": "python3"
  },
  "language_info": {
   "codemirror_mode": {
    "name": "ipython",
    "version": 3
   },
   "file_extension": ".py",
   "mimetype": "text/x-python",
   "name": "python",
   "nbconvert_exporter": "python",
   "pygments_lexer": "ipython3",
   "version": "3.9.2"
  }
 },
 "nbformat": 4,
 "nbformat_minor": 5
}
